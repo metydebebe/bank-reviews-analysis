{
 "cells": [
  {
   "cell_type": "code",
   "execution_count": 3,
   "id": "95414b7f",
   "metadata": {},
   "outputs": [],
   "source": [
    "from transformers import pipeline\n",
    "import pandas as pd"
   ]
  },
  {
   "cell_type": "code",
   "execution_count": 4,
   "id": "55eeeb3f",
   "metadata": {},
   "outputs": [],
   "source": [
    "# Load your cleaned DataFrame\n",
    "df = pd.read_csv('data/cleaned_bank_reviews.csv')\n"
   ]
  },
  {
   "cell_type": "code",
   "execution_count": 11,
   "id": "5269533a",
   "metadata": {},
   "outputs": [
    {
     "name": "stderr",
     "output_type": "stream",
     "text": [
      "Device set to use cpu\n"
     ]
    }
   ],
   "source": [
    "sentiment_pipeline = pipeline(\n",
    "    \"sentiment-analysis\",\n",
    "    model=\"distilbert/distilbert-base-uncased-finetuned-sst-2-english\",\n",
    "    revision=\"714eb0f\"\n",
    ")\n"
   ]
  },
  {
   "cell_type": "code",
   "execution_count": 12,
   "id": "56a7857c",
   "metadata": {},
   "outputs": [],
   "source": [
    "def analyze_sentiment(review):\n",
    "    try:\n",
    "        result = sentiment_pipeline(review)[0]\n",
    "        label = result['label']\n",
    "        score = result['score']\n",
    "        # Define neutral threshold (adjust as needed)\n",
    "        if 0.4 < score < 0.6:\n",
    "            label = \"NEUTRAL\"\n",
    "        return label, score\n",
    "    except Exception as e:\n",
    "        print(f\"Error analyzing sentiment for review: {review} | Error: {e}\")\n",
    "        return None, None\n"
   ]
  },
  {
   "cell_type": "code",
   "execution_count": 13,
   "id": "5e70a28a",
   "metadata": {},
   "outputs": [],
   "source": [
    "df['sentiment_label'], df['sentiment_score'] = zip(*df['review'].apply(analyze_sentiment))\n",
    "\n",
    "# Save to CSV\n",
    "df.to_csv('data/bank_reviews_with_sentiment.csv', index=False)\n"
   ]
  },
  {
   "cell_type": "code",
   "execution_count": 14,
   "id": "7a0930da",
   "metadata": {},
   "outputs": [],
   "source": [
    "# Aggregate Sentiment Scores\n",
    "sentiment_agg = df.groupby(['bank', 'rating']).agg({\n",
    "    'sentiment_score': 'mean'\n",
    "}).reset_index()"
   ]
  },
  {
   "cell_type": "code",
   "execution_count": 15,
   "id": "3db940c6",
   "metadata": {},
   "outputs": [],
   "source": [
    "# Sort the aggregated results by sentiment score\n",
    "sentiment_agg = sentiment_agg.sort_values(by='sentiment_score', ascending=False)\n"
   ]
  }
 ],
 "metadata": {
  "kernelspec": {
   "display_name": "bank-reviews-analysis",
   "language": "python",
   "name": "python3"
  },
  "language_info": {
   "codemirror_mode": {
    "name": "ipython",
    "version": 3
   },
   "file_extension": ".py",
   "mimetype": "text/x-python",
   "name": "python",
   "nbconvert_exporter": "python",
   "pygments_lexer": "ipython3",
   "version": "3.13.4"
  }
 },
 "nbformat": 4,
 "nbformat_minor": 5
}
