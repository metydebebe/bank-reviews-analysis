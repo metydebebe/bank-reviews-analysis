{
 "cells": [
  {
   "cell_type": "code",
   "execution_count": 2,
   "id": "c7ac1e08",
   "metadata": {},
   "outputs": [],
   "source": [
    "# Import necessary libraries\n",
    "from google_play_scraper import reviews, exceptions\n",
    "import pandas as pd"
   ]
  },
  {
   "cell_type": "code",
   "execution_count": 3,
   "id": "e3814fc1",
   "metadata": {},
   "outputs": [],
   "source": [
    "# Define the bank apps and their IDs\n",
    "bank_apps = {\n",
    "    'Commercial Bank of Ethiopia': 'com.combanketh.mobilebanking',\n",
    "    'Bank of Abyssinia': 'com.boa.boaMobileBanking',\n",
    "    'Dashen Bank': 'com.dashen.dashensuperapp'\n",
    "}"
   ]
  },
  {
   "cell_type": "code",
   "execution_count": 4,
   "id": "fc40e5f9",
   "metadata": {},
   "outputs": [],
   "source": [
    "# Initialize an empty list to store all reviews\n",
    "all_reviews = []"
   ]
  },
  {
   "cell_type": "code",
   "execution_count": 5,
   "id": "8a80ec3c",
   "metadata": {},
   "outputs": [],
   "source": [
    "# Import necessary libraries\n",
    "from google_play_scraper import reviews, exceptions\n",
    "import pandas as pd\n",
    "from datetime import datetime  # Import datetime\n",
    "\n",
    "# Define bank apps\n",
    "bank_apps = {\n",
    "    'Commercial Bank of Ethiopia': 'com.combanketh.mobilebanking',\n",
    "    'Bank of Abyssinia': 'com.boa.boaMobileBanking',\n",
    "    'Dashen Bank': 'com.dashen.dashensuperapp'\n",
    "}\n",
    "\n",
    "# Initialize the reviews list\n",
    "all_reviews = []\n",
    "\n",
    "# Scrape reviews for each bank\n",
    "for bank, app_id in bank_apps.items():\n",
    "    try:\n",
    "        revs, _ = reviews(\n",
    "            app_id,\n",
    "            lang='en',\n",
    "            country='ET',\n",
    "            count=400  \n",
    "        )\n",
    "        \n",
    "        for rev in revs:\n",
    "            date_value = rev.get('at')\n",
    "            if isinstance(date_value, datetime):\n",
    "                formatted_date = date_value.strftime('%Y-%m-%d %H:%M:%S')\n",
    "            else:\n",
    "                formatted_date = 'No date available'\n",
    "                \n",
    "            all_reviews.append({\n",
    "                'review': rev['content'],\n",
    "                'rating': rev['score'],\n",
    "                'date': formatted_date,\n",
    "                'bank': bank,\n",
    "                'source': 'Google Play'\n",
    "            })\n",
    "    except exceptions.NotFoundError:\n",
    "        print(f\"Error: The app '{bank}' was not found.\")\n",
    "    except Exception as e:\n",
    "        print(f\"An error occurred while scraping {bank}: {e}\")"
   ]
  },
  {
   "cell_type": "code",
   "execution_count": 6,
   "id": "6fd2c03f",
   "metadata": {},
   "outputs": [
    {
     "name": "stdout",
     "output_type": "stream",
     "text": [
      "                                              review  rating  \\\n",
      "0       the app is proactive and a good connections.       5   \n",
      "1    I cannot send to cbebirr app. through this app.       3   \n",
      "2                                               good       4   \n",
      "3                                     not functional       1   \n",
      "4  everytime you uninstall the app you have to re...       1   \n",
      "\n",
      "                  date                         bank       source  \n",
      "0  2025-06-05 15:55:10  Commercial Bank of Ethiopia  Google Play  \n",
      "1  2025-06-05 11:12:49  Commercial Bank of Ethiopia  Google Play  \n",
      "2  2025-06-05 10:21:59  Commercial Bank of Ethiopia  Google Play  \n",
      "3  2025-06-05 07:38:12  Commercial Bank of Ethiopia  Google Play  \n",
      "4  2025-06-04 21:33:36  Commercial Bank of Ethiopia  Google Play  \n",
      "Data saved successfully to 'data/bank_reviews.csv'.\n"
     ]
    }
   ],
   "source": [
    "import os\n",
    "\n",
    "# Create a DataFrame and save it to CSV\n",
    "try:\n",
    "    df = pd.DataFrame(all_reviews)\n",
    "    \n",
    "    # Display the DataFrame\n",
    "    print(df.head())  # Show the first few rows of the DataFrame\n",
    "    \n",
    "    # Create the 'data' directory if it doesn't exist\n",
    "    os.makedirs('data', exist_ok=True)\n",
    "    \n",
    "    # Save to CSV\n",
    "    df.to_csv('data/bank_reviews.csv', index=False)\n",
    "    print(\"Data saved successfully to 'data/bank_reviews.csv'.\")\n",
    "except Exception as e:\n",
    "    print(f\"An error occurred while saving the CSV file: {e}\")"
   ]
  },
  {
   "cell_type": "code",
   "execution_count": 7,
   "id": "4c9c6253",
   "metadata": {},
   "outputs": [],
   "source": [
    "# Convert All Reviews to DataFrame\n",
    "import pandas as pd\n",
    "\n",
    "# Convert to DataFrame\n",
    "df = pd.DataFrame(all_reviews)"
   ]
  },
  {
   "cell_type": "code",
   "execution_count": 8,
   "id": "dacab7ed",
   "metadata": {},
   "outputs": [],
   "source": [
    "# Remove Duplicates\n",
    "df.drop_duplicates(inplace=True)"
   ]
  },
  {
   "cell_type": "code",
   "execution_count": 9,
   "id": "54aabbf6",
   "metadata": {},
   "outputs": [],
   "source": [
    "# Handle Missing Data\n",
    "# Drop rows with missing values in review, rating, bank, source\n",
    "df.dropna(subset=['review', 'rating', 'bank', 'source'], inplace=True)"
   ]
  },
  {
   "cell_type": "code",
   "execution_count": 10,
   "id": "ea4c9ad7",
   "metadata": {},
   "outputs": [],
   "source": [
    "# Normalize Dates\n",
    "df['date'] = pd.to_datetime(df['date'], errors='coerce').dt.strftime('%Y-%m-%d')"
   ]
  },
  {
   "cell_type": "code",
   "execution_count": 11,
   "id": "3c8daf18",
   "metadata": {},
   "outputs": [
    {
     "name": "stdout",
     "output_type": "stream",
     "text": [
      "Cleaned data saved successfully to 'data/cleaned_bank_reviews.csv'.\n"
     ]
    }
   ],
   "source": [
    "# Save Cleaned DataFrame as CSV\n",
    "try:\n",
    "    df.to_csv('data/cleaned_bank_reviews.csv', index=False)\n",
    "    print(\"Cleaned data saved successfully to 'data/cleaned_bank_reviews.csv'.\")\n",
    "except Exception as e:\n",
    "    print(f\"An error occurred while saving the cleaned CSV file: {e}\")"
   ]
  }
 ],
 "metadata": {
  "kernelspec": {
   "display_name": "venv",
   "language": "python",
   "name": "python3"
  },
  "language_info": {
   "codemirror_mode": {
    "name": "ipython",
    "version": 3
   },
   "file_extension": ".py",
   "mimetype": "text/x-python",
   "name": "python",
   "nbconvert_exporter": "python",
   "pygments_lexer": "ipython3",
   "version": "3.11.4"
  }
 },
 "nbformat": 4,
 "nbformat_minor": 5
}
